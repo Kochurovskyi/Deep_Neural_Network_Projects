{
  "nbformat": 4,
  "nbformat_minor": 0,
  "metadata": {
    "accelerator": "GPU",
    "colab": {
      "name": "NLP_Week4_Exercise_Shakespeare_Question.ipynb",
      "provenance": [],
      "toc_visible": true
    },
    "kernelspec": {
      "display_name": "Python 3",
      "name": "python3"
    }
  },
  "cells": [
    {
      "cell_type": "code",
      "metadata": {
        "id": "zX4Kg8DUTKWO"
      },
      "source": [
        "#@title Licensed under the Apache License, Version 2.0 (the \"License\");\n",
        "# you may not use this file except in compliance with the License.\n",
        "# You may obtain a copy of the License at\n",
        "#\n",
        "# https://www.apache.org/licenses/LICENSE-2.0\n",
        "#\n",
        "# Unless required by applicable law or agreed to in writing, software\n",
        "# distributed under the License is distributed on an \"AS IS\" BASIS,\n",
        "# WITHOUT WARRANTIES OR CONDITIONS OF ANY KIND, either express or implied.\n",
        "# See the License for the specific language governing permissions and\n",
        "# limitations under the License."
      ],
      "execution_count": 1,
      "outputs": []
    },
    {
      "cell_type": "code",
      "metadata": {
        "id": "BOwsuGQQY9OL"
      },
      "source": [
        "from tensorflow.keras.preprocessing.sequence import pad_sequences\n",
        "from tensorflow.keras.layers import Embedding, LSTM, Dense, Dropout, Bidirectional\n",
        "from tensorflow.keras.preprocessing.text import Tokenizer\n",
        "from tensorflow.keras.models import Model\n",
        "from tensorflow.keras.layers import Input, Embedding, Bidirectional, LSTM, Dense\n",
        "\n",
        "from tensorflow.keras.optimizers import Adam\n",
        "### YOUR CODE HERE\n",
        "# Figure out how to import regularizers\n",
        "###\n",
        "import tensorflow.keras.utils as ku \n",
        "import numpy as np "
      ],
      "execution_count": 12,
      "outputs": []
    },
    {
      "cell_type": "code",
      "metadata": {
        "colab": {
          "base_uri": "https://localhost:8080/"
        },
        "id": "PRnDnCW-Z7qv",
        "outputId": "de0d8d20-6e25-4bdd-eab4-b4ff26d96a78"
      },
      "source": [
        "tokenizer = Tokenizer()\n",
        "!wget --no-check-certificate \\\n",
        "    https://storage.googleapis.com/laurencemoroney-blog.appspot.com/sonnets.txt \\\n",
        "    -O /tmp/sonnets.txt\n",
        "data = open('/tmp/sonnets.txt').read()\n",
        "\n",
        "corpus = data.lower().split(\"\\n\")\n",
        "\n",
        "\n",
        "tokenizer.fit_on_texts(corpus)\n",
        "total_words = len(tokenizer.word_index) + 1\n",
        "\n",
        "# create input sequences using list of tokens\n",
        "input_sequences = []\n",
        "for line in corpus:\n",
        "\ttoken_list = tokenizer.texts_to_sequences([line])[0]\n",
        "\tfor i in range(1, len(token_list)):\n",
        "\t\tn_gram_sequence = token_list[:i+1]\n",
        "\t\tinput_sequences.append(n_gram_sequence)\n",
        "\n",
        "\n",
        "# pad sequences \n",
        "max_sequence_len = max([len(x) for x in input_sequences])\n",
        "input_sequences = np.array(pad_sequences(input_sequences, maxlen=max_sequence_len, padding='pre'))\n",
        "\n",
        "# create predictors and label\n",
        "predictors, label = input_sequences[:,:-1],input_sequences[:,-1]\n",
        "\n",
        "label = ku.to_categorical(label, num_classes=total_words)"
      ],
      "execution_count": 13,
      "outputs": [
        {
          "output_type": "stream",
          "text": [
            "--2020-11-26 09:18:55--  https://storage.googleapis.com/laurencemoroney-blog.appspot.com/sonnets.txt\n",
            "Resolving storage.googleapis.com (storage.googleapis.com)... 74.125.133.128, 108.177.15.128, 173.194.76.128, ...\n",
            "Connecting to storage.googleapis.com (storage.googleapis.com)|74.125.133.128|:443... connected.\n",
            "HTTP request sent, awaiting response... 200 OK\n",
            "Length: 93578 (91K) [text/plain]\n",
            "Saving to: ‘/tmp/sonnets.txt’\n",
            "\n",
            "\r/tmp/sonnets.txt      0%[                    ]       0  --.-KB/s               \r/tmp/sonnets.txt    100%[===================>]  91.38K  --.-KB/s    in 0.002s  \n",
            "\n",
            "2020-11-26 09:18:55 (39.4 MB/s) - ‘/tmp/sonnets.txt’ saved [93578/93578]\n",
            "\n"
          ],
          "name": "stdout"
        }
      ]
    },
    {
      "cell_type": "code",
      "metadata": {
        "colab": {
          "base_uri": "https://localhost:8080/"
        },
        "id": "w9vH8Y59ajYL",
        "outputId": "a0663271-3e83-4e6b-d66f-045bb8d30682"
      },
      "source": [
        "inp = Input((max_sequence_len-1,))\n",
        "X = Embedding(total_words, 100, input_length=max_sequence_len-1)(inp)\n",
        "X = Bidirectional(LSTM(150))(X)\n",
        "out = Dense(total_words, activation='softmax')(X)\n",
        "adam = Adam(0.01)\n",
        "model = Model(inp, out)\n",
        "model.compile(optimizer=adam, loss='categorical_crossentropy', metrics=['accuracy'])\n",
        "print(model.summary())\n"
      ],
      "execution_count": 20,
      "outputs": [
        {
          "output_type": "stream",
          "text": [
            "Model: \"functional_4\"\n",
            "_________________________________________________________________\n",
            "Layer (type)                 Output Shape              Param #   \n",
            "=================================================================\n",
            "input_4 (InputLayer)         [(None, 10)]              0         \n",
            "_________________________________________________________________\n",
            "embedding_3 (Embedding)      (None, 10, 100)           321100    \n",
            "_________________________________________________________________\n",
            "bidirectional_2 (Bidirection (None, 300)               301200    \n",
            "_________________________________________________________________\n",
            "dense_2 (Dense)              (None, 3211)              966511    \n",
            "=================================================================\n",
            "Total params: 1,588,811\n",
            "Trainable params: 1,588,811\n",
            "Non-trainable params: 0\n",
            "_________________________________________________________________\n",
            "None\n"
          ],
          "name": "stdout"
        }
      ]
    },
    {
      "cell_type": "code",
      "metadata": {
        "colab": {
          "base_uri": "https://localhost:8080/"
        },
        "id": "AIg2f1HBxqof",
        "outputId": "faba1935-8553-478b-a1ed-91048b54b27b"
      },
      "source": [
        " history = model.fit(predictors, label, epochs=100, verbose=1)"
      ],
      "execution_count": 21,
      "outputs": [
        {
          "output_type": "stream",
          "text": [
            "Epoch 1/100\n",
            "484/484 [==============================] - 8s 17ms/step - loss: 6.7794 - accuracy: 0.0332\n",
            "Epoch 2/100\n",
            "484/484 [==============================] - 8s 17ms/step - loss: 6.0922 - accuracy: 0.0570\n",
            "Epoch 3/100\n",
            "484/484 [==============================] - 8s 17ms/step - loss: 5.4015 - accuracy: 0.0879\n",
            "Epoch 4/100\n",
            "484/484 [==============================] - 8s 17ms/step - loss: 4.6068 - accuracy: 0.1376\n",
            "Epoch 5/100\n",
            "484/484 [==============================] - 8s 17ms/step - loss: 3.7685 - accuracy: 0.2228\n",
            "Epoch 6/100\n",
            "484/484 [==============================] - 8s 17ms/step - loss: 3.0709 - accuracy: 0.3326\n",
            "Epoch 7/100\n",
            "484/484 [==============================] - 8s 17ms/step - loss: 2.5094 - accuracy: 0.4297\n",
            "Epoch 8/100\n",
            "484/484 [==============================] - 8s 17ms/step - loss: 2.1345 - accuracy: 0.5033\n",
            "Epoch 9/100\n",
            "484/484 [==============================] - 8s 17ms/step - loss: 1.8533 - accuracy: 0.5601\n",
            "Epoch 10/100\n",
            "484/484 [==============================] - 8s 17ms/step - loss: 1.6464 - accuracy: 0.6024\n",
            "Epoch 11/100\n",
            "484/484 [==============================] - 8s 17ms/step - loss: 1.4881 - accuracy: 0.6376\n",
            "Epoch 12/100\n",
            "484/484 [==============================] - 8s 17ms/step - loss: 1.3844 - accuracy: 0.6568\n",
            "Epoch 13/100\n",
            "484/484 [==============================] - 8s 17ms/step - loss: 1.3450 - accuracy: 0.6673\n",
            "Epoch 14/100\n",
            "484/484 [==============================] - 8s 17ms/step - loss: 1.2878 - accuracy: 0.6782\n",
            "Epoch 15/100\n",
            "484/484 [==============================] - 8s 17ms/step - loss: 1.3325 - accuracy: 0.6608\n",
            "Epoch 16/100\n",
            "484/484 [==============================] - 8s 17ms/step - loss: 1.2718 - accuracy: 0.6747\n",
            "Epoch 17/100\n",
            "484/484 [==============================] - 8s 17ms/step - loss: 1.1834 - accuracy: 0.6967\n",
            "Epoch 18/100\n",
            "484/484 [==============================] - 8s 17ms/step - loss: 1.1473 - accuracy: 0.7054\n",
            "Epoch 19/100\n",
            "484/484 [==============================] - 8s 17ms/step - loss: 1.1462 - accuracy: 0.7060\n",
            "Epoch 20/100\n",
            "484/484 [==============================] - 8s 17ms/step - loss: 1.1320 - accuracy: 0.7073\n",
            "Epoch 21/100\n",
            "484/484 [==============================] - 8s 17ms/step - loss: 1.1639 - accuracy: 0.7017\n",
            "Epoch 22/100\n",
            "484/484 [==============================] - 8s 17ms/step - loss: 1.1582 - accuracy: 0.6999\n",
            "Epoch 23/100\n",
            "484/484 [==============================] - 8s 17ms/step - loss: 1.1993 - accuracy: 0.6895\n",
            "Epoch 24/100\n",
            "484/484 [==============================] - 8s 17ms/step - loss: 1.1813 - accuracy: 0.6937\n",
            "Epoch 25/100\n",
            "484/484 [==============================] - 8s 17ms/step - loss: 1.1460 - accuracy: 0.7050\n",
            "Epoch 26/100\n",
            "484/484 [==============================] - 8s 17ms/step - loss: 1.1081 - accuracy: 0.7122\n",
            "Epoch 27/100\n",
            "484/484 [==============================] - 9s 18ms/step - loss: 1.0837 - accuracy: 0.7185\n",
            "Epoch 28/100\n",
            "484/484 [==============================] - 8s 17ms/step - loss: 1.0546 - accuracy: 0.7263\n",
            "Epoch 29/100\n",
            "484/484 [==============================] - 8s 17ms/step - loss: 1.1149 - accuracy: 0.7095\n",
            "Epoch 30/100\n",
            "484/484 [==============================] - 8s 17ms/step - loss: 1.1071 - accuracy: 0.7130\n",
            "Epoch 31/100\n",
            "484/484 [==============================] - 8s 17ms/step - loss: 1.1170 - accuracy: 0.7053\n",
            "Epoch 32/100\n",
            "484/484 [==============================] - 8s 17ms/step - loss: 1.1210 - accuracy: 0.7046\n",
            "Epoch 33/100\n",
            "484/484 [==============================] - 8s 17ms/step - loss: 1.0553 - accuracy: 0.7234\n",
            "Epoch 34/100\n",
            "484/484 [==============================] - 8s 17ms/step - loss: 1.0294 - accuracy: 0.7299\n",
            "Epoch 35/100\n",
            "484/484 [==============================] - 8s 17ms/step - loss: 1.0028 - accuracy: 0.7361\n",
            "Epoch 36/100\n",
            "484/484 [==============================] - 8s 17ms/step - loss: 1.0107 - accuracy: 0.7347\n",
            "Epoch 37/100\n",
            "484/484 [==============================] - 8s 17ms/step - loss: 1.0880 - accuracy: 0.7171\n",
            "Epoch 38/100\n",
            "484/484 [==============================] - 8s 17ms/step - loss: 1.1334 - accuracy: 0.7088\n",
            "Epoch 39/100\n",
            "484/484 [==============================] - 8s 17ms/step - loss: 1.0905 - accuracy: 0.7136\n",
            "Epoch 40/100\n",
            "484/484 [==============================] - 8s 17ms/step - loss: 1.0795 - accuracy: 0.7154\n",
            "Epoch 41/100\n",
            "484/484 [==============================] - 8s 17ms/step - loss: 1.0968 - accuracy: 0.7106\n",
            "Epoch 42/100\n",
            "484/484 [==============================] - 8s 17ms/step - loss: 1.0493 - accuracy: 0.7244\n",
            "Epoch 43/100\n",
            "484/484 [==============================] - 8s 17ms/step - loss: 1.0181 - accuracy: 0.7320\n",
            "Epoch 44/100\n",
            "484/484 [==============================] - 8s 17ms/step - loss: 1.0623 - accuracy: 0.7218\n",
            "Epoch 45/100\n",
            "484/484 [==============================] - 8s 17ms/step - loss: 1.0648 - accuracy: 0.7194\n",
            "Epoch 46/100\n",
            "484/484 [==============================] - 8s 17ms/step - loss: 1.1089 - accuracy: 0.7088\n",
            "Epoch 47/100\n",
            "484/484 [==============================] - 8s 17ms/step - loss: 1.1167 - accuracy: 0.7048\n",
            "Epoch 48/100\n",
            "484/484 [==============================] - 8s 17ms/step - loss: 1.0557 - accuracy: 0.7194\n",
            "Epoch 49/100\n",
            "484/484 [==============================] - 8s 17ms/step - loss: 1.0091 - accuracy: 0.7329\n",
            "Epoch 50/100\n",
            "484/484 [==============================] - 8s 17ms/step - loss: 0.9905 - accuracy: 0.7393\n",
            "Epoch 51/100\n",
            "484/484 [==============================] - 8s 17ms/step - loss: 1.0381 - accuracy: 0.7266\n",
            "Epoch 52/100\n",
            "484/484 [==============================] - 8s 17ms/step - loss: 1.2078 - accuracy: 0.6939\n",
            "Epoch 53/100\n",
            "484/484 [==============================] - 8s 17ms/step - loss: 1.1529 - accuracy: 0.6993\n",
            "Epoch 54/100\n",
            "484/484 [==============================] - 8s 17ms/step - loss: 1.0443 - accuracy: 0.7284\n",
            "Epoch 55/100\n",
            "484/484 [==============================] - 8s 17ms/step - loss: 1.0401 - accuracy: 0.7280\n",
            "Epoch 56/100\n",
            "484/484 [==============================] - 8s 17ms/step - loss: 1.0481 - accuracy: 0.7242\n",
            "Epoch 57/100\n",
            "484/484 [==============================] - 8s 17ms/step - loss: 1.0707 - accuracy: 0.7190\n",
            "Epoch 58/100\n",
            "484/484 [==============================] - 8s 17ms/step - loss: 1.1209 - accuracy: 0.7036\n",
            "Epoch 59/100\n",
            "484/484 [==============================] - 8s 17ms/step - loss: 1.0819 - accuracy: 0.7176\n",
            "Epoch 60/100\n",
            "484/484 [==============================] - 8s 17ms/step - loss: 1.0880 - accuracy: 0.7130\n",
            "Epoch 61/100\n",
            "484/484 [==============================] - 8s 17ms/step - loss: 1.0733 - accuracy: 0.7214\n",
            "Epoch 62/100\n",
            "484/484 [==============================] - 8s 17ms/step - loss: 1.0232 - accuracy: 0.7304\n",
            "Epoch 63/100\n",
            "484/484 [==============================] - 8s 17ms/step - loss: 1.0221 - accuracy: 0.7293\n",
            "Epoch 64/100\n",
            "484/484 [==============================] - 9s 18ms/step - loss: 1.0278 - accuracy: 0.7287\n",
            "Epoch 65/100\n",
            "484/484 [==============================] - 9s 18ms/step - loss: 1.0618 - accuracy: 0.7250\n",
            "Epoch 66/100\n",
            "484/484 [==============================] - 9s 18ms/step - loss: 1.0859 - accuracy: 0.7187\n",
            "Epoch 67/100\n",
            "484/484 [==============================] - 8s 18ms/step - loss: 1.1390 - accuracy: 0.7046\n",
            "Epoch 68/100\n",
            "484/484 [==============================] - 9s 18ms/step - loss: 1.1297 - accuracy: 0.7073\n",
            "Epoch 69/100\n",
            "484/484 [==============================] - 8s 17ms/step - loss: 1.0954 - accuracy: 0.7163\n",
            "Epoch 70/100\n",
            "484/484 [==============================] - 8s 17ms/step - loss: 1.0723 - accuracy: 0.7198\n",
            "Epoch 71/100\n",
            "484/484 [==============================] - 8s 17ms/step - loss: 1.0738 - accuracy: 0.7194\n",
            "Epoch 72/100\n",
            "484/484 [==============================] - 8s 17ms/step - loss: 1.0280 - accuracy: 0.7277\n",
            "Epoch 73/100\n",
            "484/484 [==============================] - 8s 17ms/step - loss: 0.9980 - accuracy: 0.7382\n",
            "Epoch 74/100\n",
            "484/484 [==============================] - 8s 17ms/step - loss: 1.0166 - accuracy: 0.7366\n",
            "Epoch 75/100\n",
            "484/484 [==============================] - 8s 17ms/step - loss: 1.0006 - accuracy: 0.7384\n",
            "Epoch 76/100\n",
            "484/484 [==============================] - 9s 18ms/step - loss: 1.0318 - accuracy: 0.7322\n",
            "Epoch 77/100\n",
            "484/484 [==============================] - 8s 17ms/step - loss: 1.0401 - accuracy: 0.7274\n",
            "Epoch 78/100\n",
            "484/484 [==============================] - 8s 17ms/step - loss: 1.0219 - accuracy: 0.7316\n",
            "Epoch 79/100\n",
            "484/484 [==============================] - 8s 17ms/step - loss: 0.9780 - accuracy: 0.7426\n",
            "Epoch 80/100\n",
            "484/484 [==============================] - 8s 17ms/step - loss: 0.9948 - accuracy: 0.7390\n",
            "Epoch 81/100\n",
            "484/484 [==============================] - 9s 18ms/step - loss: 1.0691 - accuracy: 0.7230\n",
            "Epoch 82/100\n",
            "484/484 [==============================] - 9s 18ms/step - loss: 1.0866 - accuracy: 0.7212\n",
            "Epoch 83/100\n",
            "484/484 [==============================] - 8s 17ms/step - loss: 1.0771 - accuracy: 0.7198\n",
            "Epoch 84/100\n",
            "484/484 [==============================] - 8s 17ms/step - loss: 1.0451 - accuracy: 0.7267\n",
            "Epoch 85/100\n",
            "484/484 [==============================] - 8s 17ms/step - loss: 1.0067 - accuracy: 0.7385\n",
            "Epoch 86/100\n",
            "484/484 [==============================] - 8s 17ms/step - loss: 0.9527 - accuracy: 0.7467\n",
            "Epoch 87/100\n",
            "484/484 [==============================] - 9s 18ms/step - loss: 1.0374 - accuracy: 0.7272\n",
            "Epoch 88/100\n",
            "484/484 [==============================] - 9s 18ms/step - loss: 1.0443 - accuracy: 0.7277\n",
            "Epoch 89/100\n",
            "484/484 [==============================] - 9s 18ms/step - loss: 1.0157 - accuracy: 0.7370\n",
            "Epoch 90/100\n",
            "484/484 [==============================] - 8s 17ms/step - loss: 0.9718 - accuracy: 0.7445\n",
            "Epoch 91/100\n",
            "484/484 [==============================] - 8s 17ms/step - loss: 0.9825 - accuracy: 0.7445\n",
            "Epoch 92/100\n",
            "484/484 [==============================] - 8s 17ms/step - loss: 1.0359 - accuracy: 0.7277\n",
            "Epoch 93/100\n",
            "484/484 [==============================] - 8s 17ms/step - loss: 1.0645 - accuracy: 0.7227\n",
            "Epoch 94/100\n",
            "484/484 [==============================] - 8s 17ms/step - loss: 0.9752 - accuracy: 0.7436\n",
            "Epoch 95/100\n",
            "484/484 [==============================] - 8s 17ms/step - loss: 0.9551 - accuracy: 0.7509\n",
            "Epoch 96/100\n",
            "484/484 [==============================] - 8s 17ms/step - loss: 0.9570 - accuracy: 0.7487\n",
            "Epoch 97/100\n",
            "484/484 [==============================] - 8s 18ms/step - loss: 0.9623 - accuracy: 0.7452\n",
            "Epoch 98/100\n",
            "484/484 [==============================] - 8s 17ms/step - loss: 0.9845 - accuracy: 0.7444\n",
            "Epoch 99/100\n",
            "484/484 [==============================] - 8s 17ms/step - loss: 1.0178 - accuracy: 0.7350\n",
            "Epoch 100/100\n",
            "484/484 [==============================] - 8s 18ms/step - loss: 1.0207 - accuracy: 0.7346\n"
          ],
          "name": "stdout"
        }
      ]
    },
    {
      "cell_type": "code",
      "metadata": {
        "colab": {
          "base_uri": "https://localhost:8080/",
          "height": 350
        },
        "id": "1fXTEO3GJ282",
        "outputId": "fbde036e-edab-43d8-c389-0af9e173b756"
      },
      "source": [
        "import matplotlib.pyplot as plt\n",
        "def hs_plot(history):\n",
        "    ''' history plot '''\n",
        "    loss = history.history['loss']\n",
        "    #val_loss = history.history['val_loss']\n",
        "    accuracy = history.history['accuracy']\n",
        "    #val_accuracy = history.history['val_accuracy']\n",
        "    epochs = range(1, len(loss) + 1)\n",
        "    fig, ax = plt.subplots(1, 2, figsize=(11, 5))\n",
        "    ax[0].plot(epochs, loss, color='red', label='Training loss')\n",
        "    #ax[0].plot(epochs, val_loss, color='deeppink', label='Validation loss')\n",
        "    ax[1].plot(epochs, accuracy, color='green', label='accuracy')\n",
        "    #ax[1].plot(epochs, val_accuracy, color='lime', label='val_accurace')\n",
        "    ax[0].set_title('Training and validation loss')\n",
        "    ax[1].set_title('Training and validation Metrics(Accuracy)')\n",
        "    ax[0].set_xlabel('Epochs')\n",
        "    ax[1].set_xlabel('Epochs')\n",
        "    ax[0].set_ylabel('Loss')\n",
        "    ax[1].set_ylabel('Metrics')\n",
        "    ax[0].grid()\n",
        "    ax[1].grid()\n",
        "    ax[0].legend()\n",
        "    ax[1].legend()\n",
        "    plt.savefig('hist.png')\n",
        "    plt.show()\n",
        "  \n",
        "hs_plot(history)"
      ],
      "execution_count": 23,
      "outputs": [
        {
          "output_type": "display_data",
          "data": {
            "image/png": "[encoded data removed]",
            "text/plain": [
              "<Figure size 792x360 with 2 Axes>"
            ]
          },
          "metadata": {
            "tags": [],
            "needs_background": "light"
          }
        }
      ]
    },
    {
      "cell_type": "code",
      "metadata": {
        "colab": {
          "base_uri": "https://localhost:8080/",
          "height": 235
        },
        "id": "6Vc6PHgxa6Hm",
        "outputId": "405101fa-c41b-41cc-cd2a-5ceceb887789"
      },
      "source": [
        "seed_text = \"Help me Obi Wan Kenobi, you're my only hope\"\n",
        "next_words = 100\n",
        "  \n",
        "for _ in range(next_words):\n",
        "\ttoken_list = tokenizer.texts_to_sequences([seed_text])[0]\n",
        "\ttoken_list = pad_sequences([token_list], maxlen=max_sequence_len-1, padding='pre')\n",
        "\tpredicted = model.predict(token_list, verbose=0)\n",
        "\toutput_word = \"\"\n",
        "\tfor word, index in tokenizer.word_index.items():\n",
        "\t\tif index == predicted:\n",
        "\t\t\toutput_word = word\n",
        "\t\t\tbreak\n",
        "\tseed_text += \" \" + output_word\n",
        "print(seed_text)"
      ],
      "execution_count": 25,
      "outputs": [
        {
          "output_type": "error",
          "ename": "ValueError",
          "evalue": "ignored",
          "traceback": [
            "\u001b[0;31m---------------------------------------------------------------------------\u001b[0m",
            "\u001b[0;31mValueError\u001b[0m                                Traceback (most recent call last)",
            "\u001b[0;32m<ipython-input-25-da11dda41f4d>\u001b[0m in \u001b[0;36m<module>\u001b[0;34m()\u001b[0m\n\u001b[1;32m      8\u001b[0m         \u001b[0moutput_word\u001b[0m \u001b[0;34m=\u001b[0m \u001b[0;34m\"\"\u001b[0m\u001b[0;34m\u001b[0m\u001b[0;34m\u001b[0m\u001b[0m\n\u001b[1;32m      9\u001b[0m         \u001b[0;32mfor\u001b[0m \u001b[0mword\u001b[0m\u001b[0;34m,\u001b[0m \u001b[0mindex\u001b[0m \u001b[0;32min\u001b[0m \u001b[0mtokenizer\u001b[0m\u001b[0;34m.\u001b[0m\u001b[0mword_index\u001b[0m\u001b[0;34m.\u001b[0m\u001b[0mitems\u001b[0m\u001b[0;34m(\u001b[0m\u001b[0;34m)\u001b[0m\u001b[0;34m:\u001b[0m\u001b[0;34m\u001b[0m\u001b[0;34m\u001b[0m\u001b[0m\n\u001b[0;32m---> 10\u001b[0;31m                 \u001b[0;32mif\u001b[0m \u001b[0mindex\u001b[0m \u001b[0;34m==\u001b[0m \u001b[0mpredicted\u001b[0m\u001b[0;34m:\u001b[0m\u001b[0;34m\u001b[0m\u001b[0;34m\u001b[0m\u001b[0m\n\u001b[0m\u001b[1;32m     11\u001b[0m                         \u001b[0moutput_word\u001b[0m \u001b[0;34m=\u001b[0m \u001b[0mword\u001b[0m\u001b[0;34m\u001b[0m\u001b[0;34m\u001b[0m\u001b[0m\n\u001b[1;32m     12\u001b[0m                         \u001b[0;32mbreak\u001b[0m\u001b[0;34m\u001b[0m\u001b[0;34m\u001b[0m\u001b[0m\n",
            "\u001b[0;31mValueError\u001b[0m: The truth value of an array with more than one element is ambiguous. Use a.any() or a.all()"
          ]
        }
      ]
    },
    {
      "cell_type": "code",
      "metadata": {
        "id": "qwGFaz946tVn"
      },
      "source": [
        ""
      ],
      "execution_count": null,
      "outputs": []
    }
  ]
}