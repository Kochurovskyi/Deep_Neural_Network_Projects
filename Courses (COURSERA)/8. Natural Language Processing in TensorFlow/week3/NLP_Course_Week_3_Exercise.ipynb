{
  "nbformat": 4,
  "nbformat_minor": 0,
  "metadata": {
    "accelerator": "GPU",
    "colab": {
      "name": "NLP Course - Week 3 Exercise Answer.ipynb",
      "provenance": [],
      "toc_visible": true
    },
    "kernelspec": {
      "display_name": "Python 3",
      "language": "python",
      "name": "python3"
    },
    "language_info": {
      "codemirror_mode": {
        "name": "ipython",
        "version": 3
      },
      "file_extension": ".py",
      "mimetype": "text/x-python",
      "name": "python",
      "nbconvert_exporter": "python",
      "pygments_lexer": "ipython3",
      "version": "3.7.6"
    }
  },
  "cells": [
    {
      "cell_type": "code",
      "metadata": {
        "id": "zX4Kg8DUTKWO"
      },
      "source": [
        "#@title Licensed under the Apache License, Version 2.0 (the \"License\");\n",
        "# you may not use this file except in compliance with the License.\n",
        "# You may obtain a copy of the License at\n",
        "#\n",
        "# https://www.apache.org/licenses/LICENSE-2.0\n",
        "#\n",
        "# Unless required by applicable law or agreed to in writing, software\n",
        "# distributed under the License is distributed on an \"AS IS\" BASIS,\n",
        "# WITHOUT WARRANTIES OR CONDITIONS OF ANY KIND, either express or implied.\n",
        "# See the License for the specific language governing permissions and\n",
        "# limitations under the License."
      ],
      "execution_count": 1,
      "outputs": []
    },
    {
      "cell_type": "markdown",
      "metadata": {
        "id": "ZYv2ZVO9mfL3"
      },
      "source": [
        "<a href=\"https://colab.research.google.com/github/lmoroney/dlaicourse/blob/master/TensorFlow%20In%20Practice/Course%203%20-%20NLP/NLP%20Course%20-%20Week%203%20Exercise%20Answer.ipynb\" target=\"_parent\"><img src=\"https://colab.research.google.com/assets/colab-badge.svg\" alt=\"Open In Colab\"/></a>"
      ]
    },
    {
      "cell_type": "code",
      "metadata": {
        "id": "hmA6EzkQJ5jt"
      },
      "source": [
        "import json\n",
        "import tensorflow as tf\n",
        "import csv\n",
        "import random\n",
        "import numpy as np\n",
        "\n",
        "from tensorflow.keras.preprocessing.text import Tokenizer\n",
        "from tensorflow.keras.preprocessing.sequence import pad_sequences\n",
        "from tensorflow.keras.utils import to_categorical\n",
        "from tensorflow.keras import regularizers\n",
        "\n",
        "\n",
        "embedding_dim = 100\n",
        "max_length = 16\n",
        "trunc_type='post'\n",
        "padding_type='post'\n",
        "oov_tok = \"<OOV>\"\n",
        "training_size=160000\n",
        "test_portion=.1\n",
        "\n",
        "corpus = []\n"
      ],
      "execution_count": 2,
      "outputs": []
    },
    {
      "cell_type": "code",
      "metadata": {
        "colab": {
          "base_uri": "https://localhost:8080/"
        },
        "id": "bM0l_dORKqE0",
        "outputId": "5e7ecfbe-480b-4e8b-eb75-edecfa95ada7"
      },
      "source": [
        "# Note that I cleaned the Stanford dataset to remove LATIN1 encoding to make it easier for Python CSV reader\n",
        "# You can do that yourself with:\n",
        "# iconv -f LATIN1 -t UTF8 training.1600000.processed.noemoticon.csv -o training_cleaned.csv\n",
        "# I then hosted it on my site to make it easier to use in this notebook\n",
        "\n",
        "!wget --no-check-certificate \\\n",
        "    https://storage.googleapis.com/laurencemoroney-blog.appspot.com/training_cleaned.csv \\\n",
        "    -O /tmp/training_cleaned.csv\n",
        "\n",
        "num_sentences = 0\n",
        "\n",
        "with open(\"/tmp/training_cleaned.csv\") as csvfile:\n",
        "    reader = csv.reader(csvfile, delimiter=',')\n",
        "    for row in reader:\n",
        "        list_item=[]\n",
        "        list_item.append(row[5])\n",
        "        this_label=row[0]\n",
        "        if this_label=='0':\n",
        "            list_item.append(0)\n",
        "        else:\n",
        "            list_item.append(1)\n",
        "        num_sentences = num_sentences + 1\n",
        "        corpus.append(list_item)\n"
      ],
      "execution_count": 3,
      "outputs": [
        {
          "output_type": "stream",
          "text": [
            "--2020-11-25 18:36:08--  https://storage.googleapis.com/laurencemoroney-blog.appspot.com/training_cleaned.csv\n",
            "Resolving storage.googleapis.com (storage.googleapis.com)... 142.250.31.128, 172.217.164.176, 172.217.15.112, ...\n",
            "Connecting to storage.googleapis.com (storage.googleapis.com)|142.250.31.128|:443... connected.\n",
            "HTTP request sent, awaiting response... 200 OK\n",
            "Length: 238942690 (228M) [application/octet-stream]\n",
            "Saving to: ‘/tmp/training_cleaned.csv’\n",
            "\n",
            "/tmp/training_clean 100%[===================>] 227.87M  81.6MB/s    in 2.8s    \n",
            "\n",
            "2020-11-25 18:36:11 (81.6 MB/s) - ‘/tmp/training_cleaned.csv’ saved [238942690/238942690]\n",
            "\n"
          ],
          "name": "stdout"
        }
      ]
    },
    {
      "cell_type": "code",
      "metadata": {
        "colab": {
          "base_uri": "https://localhost:8080/"
        },
        "id": "3kxblBUjEUX-",
        "outputId": "8a24560e-8e35-4fa8-fb34-76d519f11ed1"
      },
      "source": [
        "print(num_sentences)\n",
        "print(len(corpus))\n",
        "print(corpus[1])\n",
        "\n",
        "# Expected Output:\n",
        "# 1600000\n",
        "# 1600000\n",
        "# [\"is upset that he can't update his Facebook by texting it... and might cry as a result  School today also. Blah!\", 0]"
      ],
      "execution_count": 4,
      "outputs": [
        {
          "output_type": "stream",
          "text": [
            "1600000\n",
            "1600000\n",
            "[\"is upset that he can't update his Facebook by texting it... and might cry as a result  School today also. Blah!\", 0]\n"
          ],
          "name": "stdout"
        }
      ]
    },
    {
      "cell_type": "code",
      "metadata": {
        "id": "ohOGz24lsNAD"
      },
      "source": [
        "sentences=[]\n",
        "labels=[]\n",
        "random.shuffle(corpus)\n",
        "for x in range(training_size):\n",
        "    sentences.append(corpus[x][0])\n",
        "    labels.append(corpus[x][1])\n",
        "\n",
        "\n",
        "tokenizer = Tokenizer()\n",
        "tokenizer.fit_on_texts(sentences)\n",
        "\n",
        "word_index = tokenizer.word_index\n",
        "vocab_size=len(word_index)\n",
        "\n",
        "sequences = tokenizer.texts_to_sequences(sentences)\n",
        "padded = pad_sequences(sequences, maxlen=max_length, padding=padding_type, truncating=trunc_type)\n",
        "\n",
        "split = int(test_portion * training_size)\n",
        "\n",
        "test_sequences = padded[0:split]\n",
        "training_sequences = padded[split:training_size]\n",
        "test_labels = labels[0:split]\n",
        "training_labels = labels[split:training_size]"
      ],
      "execution_count": 5,
      "outputs": []
    },
    {
      "cell_type": "code",
      "metadata": {
        "colab": {
          "base_uri": "https://localhost:8080/"
        },
        "id": "gIrtRem1En3N",
        "outputId": "093b2010-8f00-4151-c134-41c856f797e4"
      },
      "source": [
        "print(vocab_size)\n",
        "print(word_index['i'])\n",
        "# Expected Output\n",
        "# 138858\n",
        "# 1"
      ],
      "execution_count": 6,
      "outputs": [
        {
          "output_type": "stream",
          "text": [
            "138249\n",
            "1\n"
          ],
          "name": "stdout"
        }
      ]
    },
    {
      "cell_type": "code",
      "metadata": {
        "colab": {
          "base_uri": "https://localhost:8080/"
        },
        "id": "C1zdgJkusRh0",
        "outputId": "a5c226ef-4ef2-44f6-86a0-db02e5d19099"
      },
      "source": [
        "# Note this is the 100 dimension version of GloVe from Stanford\n",
        "# I unzipped and hosted it on my site to make this notebook easier\n",
        "!wget --no-check-certificate \\\n",
        "    https://storage.googleapis.com/laurencemoroney-blog.appspot.com/glove.6B.100d.txt \\\n",
        "    -O /tmp/glove.6B.100d.txt\n",
        "embeddings_index = {};\n",
        "with open('/tmp/glove.6B.100d.txt') as f:\n",
        "    for line in f:\n",
        "        values = line.split();\n",
        "        word = values[0];\n",
        "        coefs = np.asarray(values[1:], dtype='float32');\n",
        "        embeddings_index[word] = coefs;\n",
        "\n",
        "embeddings_matrix = np.zeros((vocab_size+1, embedding_dim));\n",
        "for word, i in word_index.items():\n",
        "    embedding_vector = embeddings_index.get(word);\n",
        "    if embedding_vector is not None:\n",
        "        embeddings_matrix[i] = embedding_vector;"
      ],
      "execution_count": 7,
      "outputs": [
        {
          "output_type": "stream",
          "text": [
            "--2020-11-25 18:36:30--  https://storage.googleapis.com/laurencemoroney-blog.appspot.com/glove.6B.100d.txt\n",
            "Resolving storage.googleapis.com (storage.googleapis.com)... 142.250.31.128, 172.217.164.176, 172.217.15.112, ...\n",
            "Connecting to storage.googleapis.com (storage.googleapis.com)|142.250.31.128|:443... connected.\n",
            "HTTP request sent, awaiting response... 200 OK\n",
            "Length: 347116733 (331M) [text/plain]\n",
            "Saving to: ‘/tmp/glove.6B.100d.txt’\n",
            "\n",
            "/tmp/glove.6B.100d. 100%[===================>] 331.04M   118MB/s    in 2.8s    \n",
            "\n",
            "2020-11-25 18:36:33 (118 MB/s) - ‘/tmp/glove.6B.100d.txt’ saved [347116733/347116733]\n",
            "\n"
          ],
          "name": "stdout"
        }
      ]
    },
    {
      "cell_type": "code",
      "metadata": {
        "colab": {
          "base_uri": "https://localhost:8080/"
        },
        "id": "71NLk_lpFLNt",
        "outputId": "4e9451ca-9ccc-4c1f-d905-3d6220a90d3f"
      },
      "source": [
        "print(len(embeddings_matrix))\n",
        "# Expected Output\n",
        "# 138859"
      ],
      "execution_count": 8,
      "outputs": [
        {
          "output_type": "stream",
          "text": [
            "138250\n"
          ],
          "name": "stdout"
        }
      ]
    },
    {
      "cell_type": "code",
      "metadata": {
        "colab": {
          "base_uri": "https://localhost:8080/"
        },
        "id": "iKKvbuEBOGFz",
        "outputId": "d85bb498-678a-4189-c0fc-ffcbfeac76b1"
      },
      "source": [
        "model = tf.keras.Sequential([\n",
        "    tf.keras.layers.Embedding(vocab_size+1, embedding_dim, input_length=max_length, weights=[embeddings_matrix], trainable=False),\n",
        "    tf.keras.layers.Dropout(0.2),\n",
        "    tf.keras.layers.Conv1D(64, 5, activation='relu'),\n",
        "    tf.keras.layers.MaxPooling1D(pool_size=4),\n",
        "    tf.keras.layers.LSTM(64),\n",
        "    #tf.keras.layers.GlobalAveragePooling1D(),\n",
        "    #tf.keras.layers.Dense(16, activation='relu'),\n",
        "    tf.keras.layers.Dense(1, activation='sigmoid')\n",
        "])\n",
        "model.compile(loss='binary_crossentropy',optimizer='adam',metrics=['accuracy'])\n",
        "model.summary()\n",
        "\n",
        "num_epochs = 50\n",
        "\n",
        "training_padded = np.array(training_sequences)\n",
        "training_labels = np.array(training_labels)\n",
        "testing_padded = np.array(test_sequences)\n",
        "testing_labels = np.array(test_labels)\n",
        "\n",
        "history = model.fit(training_padded, training_labels, epochs=num_epochs, validation_data=(testing_padded, testing_labels), verbose=2)\n",
        "\n",
        "print(\"Training Complete\")"
      ],
      "execution_count": 12,
      "outputs": [
        {
          "output_type": "stream",
          "text": [
            "Model: \"sequential_2\"\n",
            "_________________________________________________________________\n",
            "Layer (type)                 Output Shape              Param #   \n",
            "=================================================================\n",
            "embedding_2 (Embedding)      (None, 16, 100)           13825000  \n",
            "_________________________________________________________________\n",
            "dropout (Dropout)            (None, 16, 100)           0         \n",
            "_________________________________________________________________\n",
            "conv1d (Conv1D)              (None, 12, 64)            32064     \n",
            "_________________________________________________________________\n",
            "max_pooling1d (MaxPooling1D) (None, 3, 64)             0         \n",
            "_________________________________________________________________\n",
            "lstm (LSTM)                  (None, 64)                33024     \n",
            "_________________________________________________________________\n",
            "dense_4 (Dense)              (None, 1)                 65        \n",
            "=================================================================\n",
            "Total params: 13,890,153\n",
            "Trainable params: 65,153\n",
            "Non-trainable params: 13,825,000\n",
            "_________________________________________________________________\n",
            "Epoch 1/50\n",
            "4500/4500 - 15s - loss: 0.5669 - accuracy: 0.7007 - val_loss: 0.5245 - val_accuracy: 0.7321\n",
            "Epoch 2/50\n",
            "4500/4500 - 15s - loss: 0.5262 - accuracy: 0.7322 - val_loss: 0.5116 - val_accuracy: 0.7442\n",
            "Epoch 3/50\n",
            "4500/4500 - 16s - loss: 0.5090 - accuracy: 0.7448 - val_loss: 0.5045 - val_accuracy: 0.7468\n",
            "Epoch 4/50\n",
            "4500/4500 - 16s - loss: 0.4976 - accuracy: 0.7524 - val_loss: 0.5016 - val_accuracy: 0.7525\n",
            "Epoch 5/50\n",
            "4500/4500 - 15s - loss: 0.4895 - accuracy: 0.7589 - val_loss: 0.5012 - val_accuracy: 0.7498\n",
            "Epoch 6/50\n",
            "4500/4500 - 15s - loss: 0.4821 - accuracy: 0.7633 - val_loss: 0.5129 - val_accuracy: 0.7418\n",
            "Epoch 7/50\n",
            "4500/4500 - 15s - loss: 0.4766 - accuracy: 0.7660 - val_loss: 0.5006 - val_accuracy: 0.7529\n",
            "Epoch 8/50\n",
            "4500/4500 - 15s - loss: 0.4712 - accuracy: 0.7693 - val_loss: 0.5046 - val_accuracy: 0.7559\n",
            "Epoch 9/50\n",
            "4500/4500 - 15s - loss: 0.4679 - accuracy: 0.7724 - val_loss: 0.5042 - val_accuracy: 0.7533\n",
            "Epoch 10/50\n",
            "4500/4500 - 15s - loss: 0.4642 - accuracy: 0.7738 - val_loss: 0.5057 - val_accuracy: 0.7510\n",
            "Epoch 11/50\n",
            "4500/4500 - 15s - loss: 0.4592 - accuracy: 0.7767 - val_loss: 0.5006 - val_accuracy: 0.7547\n",
            "Epoch 12/50\n",
            "4500/4500 - 15s - loss: 0.4558 - accuracy: 0.7786 - val_loss: 0.5055 - val_accuracy: 0.7523\n",
            "Epoch 13/50\n",
            "4500/4500 - 15s - loss: 0.4540 - accuracy: 0.7810 - val_loss: 0.5081 - val_accuracy: 0.7513\n",
            "Epoch 14/50\n",
            "4500/4500 - 15s - loss: 0.4522 - accuracy: 0.7802 - val_loss: 0.5126 - val_accuracy: 0.7477\n",
            "Epoch 15/50\n",
            "4500/4500 - 15s - loss: 0.4489 - accuracy: 0.7833 - val_loss: 0.5095 - val_accuracy: 0.7501\n",
            "Epoch 16/50\n",
            "4500/4500 - 15s - loss: 0.4479 - accuracy: 0.7837 - val_loss: 0.5072 - val_accuracy: 0.7531\n",
            "Epoch 17/50\n",
            "4500/4500 - 15s - loss: 0.4454 - accuracy: 0.7859 - val_loss: 0.5115 - val_accuracy: 0.7487\n",
            "Epoch 18/50\n",
            "4500/4500 - 15s - loss: 0.4452 - accuracy: 0.7855 - val_loss: 0.5097 - val_accuracy: 0.7444\n",
            "Epoch 19/50\n",
            "4500/4500 - 15s - loss: 0.4429 - accuracy: 0.7876 - val_loss: 0.5100 - val_accuracy: 0.7481\n",
            "Epoch 20/50\n",
            "4500/4500 - 15s - loss: 0.4411 - accuracy: 0.7884 - val_loss: 0.5124 - val_accuracy: 0.7546\n",
            "Epoch 21/50\n",
            "4500/4500 - 15s - loss: 0.4408 - accuracy: 0.7886 - val_loss: 0.5129 - val_accuracy: 0.7507\n",
            "Epoch 22/50\n",
            "4500/4500 - 15s - loss: 0.4391 - accuracy: 0.7887 - val_loss: 0.5121 - val_accuracy: 0.7502\n",
            "Epoch 23/50\n",
            "4500/4500 - 15s - loss: 0.4378 - accuracy: 0.7903 - val_loss: 0.5158 - val_accuracy: 0.7487\n",
            "Epoch 24/50\n",
            "4500/4500 - 16s - loss: 0.4362 - accuracy: 0.7911 - val_loss: 0.5187 - val_accuracy: 0.7494\n",
            "Epoch 25/50\n",
            "4500/4500 - 15s - loss: 0.4370 - accuracy: 0.7897 - val_loss: 0.5159 - val_accuracy: 0.7498\n",
            "Epoch 26/50\n",
            "4500/4500 - 15s - loss: 0.4343 - accuracy: 0.7923 - val_loss: 0.5199 - val_accuracy: 0.7531\n",
            "Epoch 27/50\n",
            "4500/4500 - 15s - loss: 0.4354 - accuracy: 0.7922 - val_loss: 0.5165 - val_accuracy: 0.7476\n",
            "Epoch 28/50\n",
            "4500/4500 - 15s - loss: 0.4335 - accuracy: 0.7938 - val_loss: 0.5214 - val_accuracy: 0.7479\n",
            "Epoch 29/50\n",
            "4500/4500 - 15s - loss: 0.4341 - accuracy: 0.7922 - val_loss: 0.5238 - val_accuracy: 0.7457\n",
            "Epoch 30/50\n",
            "4500/4500 - 15s - loss: 0.4334 - accuracy: 0.7916 - val_loss: 0.5226 - val_accuracy: 0.7479\n",
            "Epoch 31/50\n",
            "4500/4500 - 15s - loss: 0.4324 - accuracy: 0.7931 - val_loss: 0.5198 - val_accuracy: 0.7469\n",
            "Epoch 32/50\n",
            "4500/4500 - 15s - loss: 0.4317 - accuracy: 0.7950 - val_loss: 0.5229 - val_accuracy: 0.7447\n",
            "Epoch 33/50\n",
            "4500/4500 - 15s - loss: 0.4309 - accuracy: 0.7942 - val_loss: 0.5260 - val_accuracy: 0.7483\n",
            "Epoch 34/50\n",
            "4500/4500 - 15s - loss: 0.4287 - accuracy: 0.7952 - val_loss: 0.5222 - val_accuracy: 0.7471\n",
            "Epoch 35/50\n",
            "4500/4500 - 15s - loss: 0.4308 - accuracy: 0.7946 - val_loss: 0.5256 - val_accuracy: 0.7486\n",
            "Epoch 36/50\n",
            "4500/4500 - 15s - loss: 0.4301 - accuracy: 0.7941 - val_loss: 0.5240 - val_accuracy: 0.7472\n",
            "Epoch 37/50\n",
            "4500/4500 - 15s - loss: 0.4284 - accuracy: 0.7969 - val_loss: 0.5241 - val_accuracy: 0.7484\n",
            "Epoch 38/50\n",
            "4500/4500 - 15s - loss: 0.4287 - accuracy: 0.7956 - val_loss: 0.5292 - val_accuracy: 0.7467\n",
            "Epoch 39/50\n",
            "4500/4500 - 14s - loss: 0.4295 - accuracy: 0.7954 - val_loss: 0.5285 - val_accuracy: 0.7466\n",
            "Epoch 40/50\n",
            "4500/4500 - 15s - loss: 0.4286 - accuracy: 0.7952 - val_loss: 0.5204 - val_accuracy: 0.7478\n",
            "Epoch 41/50\n",
            "4500/4500 - 15s - loss: 0.4291 - accuracy: 0.7955 - val_loss: 0.5173 - val_accuracy: 0.7496\n",
            "Epoch 42/50\n",
            "4500/4500 - 15s - loss: 0.4288 - accuracy: 0.7947 - val_loss: 0.5237 - val_accuracy: 0.7483\n",
            "Epoch 43/50\n",
            "4500/4500 - 15s - loss: 0.4279 - accuracy: 0.7950 - val_loss: 0.5241 - val_accuracy: 0.7484\n",
            "Epoch 44/50\n",
            "4500/4500 - 15s - loss: 0.4268 - accuracy: 0.7975 - val_loss: 0.5276 - val_accuracy: 0.7487\n",
            "Epoch 45/50\n",
            "4500/4500 - 16s - loss: 0.4273 - accuracy: 0.7962 - val_loss: 0.5348 - val_accuracy: 0.7434\n",
            "Epoch 46/50\n",
            "4500/4500 - 15s - loss: 0.4261 - accuracy: 0.7968 - val_loss: 0.5248 - val_accuracy: 0.7474\n",
            "Epoch 47/50\n",
            "4500/4500 - 15s - loss: 0.4264 - accuracy: 0.7963 - val_loss: 0.5210 - val_accuracy: 0.7512\n",
            "Epoch 48/50\n",
            "4500/4500 - 15s - loss: 0.4269 - accuracy: 0.7959 - val_loss: 0.5218 - val_accuracy: 0.7501\n",
            "Epoch 49/50\n",
            "4500/4500 - 15s - loss: 0.4257 - accuracy: 0.7968 - val_loss: 0.5244 - val_accuracy: 0.7458\n",
            "Epoch 50/50\n",
            "4500/4500 - 15s - loss: 0.4252 - accuracy: 0.7989 - val_loss: 0.5218 - val_accuracy: 0.7476\n",
            "Training Complete\n"
          ],
          "name": "stdout"
        }
      ]
    },
    {
      "cell_type": "code",
      "metadata": {
        "colab": {
          "base_uri": "https://localhost:8080/",
          "height": 607
        },
        "id": "qxju4ItJKO8F",
        "outputId": "6c119006-6cfa-4886-ea91-d4683ca4ef74"
      },
      "source": [
        "import matplotlib.image  as mpimg\n",
        "import matplotlib.pyplot as plt\n",
        "\n",
        "#-----------------------------------------------------------\n",
        "# Retrieve a list of list results on training and test data\n",
        "# sets for each training epoch\n",
        "#-----------------------------------------------------------\n",
        "acc=history.history['accuracy']\n",
        "val_acc=history.history['val_accuracy']\n",
        "loss=history.history['loss']\n",
        "val_loss=history.history['val_loss']\n",
        "\n",
        "epochs=range(len(acc)) # Get number of epochs\n",
        "\n",
        "#------------------------------------------------\n",
        "# Plot training and validation accuracy per epoch\n",
        "#------------------------------------------------\n",
        "plt.plot(epochs, acc, 'r')\n",
        "plt.plot(epochs, val_acc, 'b')\n",
        "plt.title('Training and validation accuracy')\n",
        "plt.xlabel(\"Epochs\")\n",
        "plt.ylabel(\"Accuracy\")\n",
        "plt.legend([\"Accuracy\", \"Validation Accuracy\"])\n",
        "\n",
        "plt.figure()\n",
        "\n",
        "#------------------------------------------------\n",
        "# Plot training and validation loss per epoch\n",
        "#------------------------------------------------\n",
        "plt.plot(epochs, loss, 'r')\n",
        "plt.plot(epochs, val_loss, 'b')\n",
        "plt.title('Training and validation loss')\n",
        "plt.xlabel(\"Epochs\")\n",
        "plt.ylabel(\"Loss\")\n",
        "plt.legend([\"Loss\", \"Validation Loss\"])\n",
        "\n",
        "plt.figure()\n",
        "\n",
        "\n",
        "# Expected Output\n",
        "# A chart where the validation loss does not increase sharply!"
      ],
      "execution_count": 13,
      "outputs": [
        {
          "output_type": "execute_result",
          "data": {
            "text/plain": [
              "<Figure size 432x288 with 0 Axes>"
            ]
          },
          "metadata": {
            "tags": []
          },
          "execution_count": 13
        },
        {
          "output_type": "display_data",
          "data": {
            "image/png": "[encoded data removed]",
            "text/plain": [
              "<Figure size 432x288 with 1 Axes>"
            ]
          },
          "metadata": {
            "tags": [],
            "needs_background": "light"
          }
        },
        {
          "output_type": "display_data",
          "data": {
            "image/png": "[encoded data removed]",
            "text/plain": [
              "<Figure size 432x288 with 1 Axes>"
            ]
          },
          "metadata": {
            "tags": [],
            "needs_background": "light"
          }
        },
        {
          "output_type": "display_data",
          "data": {
            "text/plain": [
              "<Figure size 432x288 with 0 Axes>"
            ]
          },
          "metadata": {
            "tags": []
          }
        }
      ]
    },
    {
      "cell_type": "code",
      "metadata": {
        "id": "z-INSIhuurhm"
      },
      "source": [
        ""
      ],
      "execution_count": null,
      "outputs": []
    }
  ]
}