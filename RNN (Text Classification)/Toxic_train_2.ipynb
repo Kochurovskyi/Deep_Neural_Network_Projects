{
  "nbformat": 4,
  "nbformat_minor": 0,
  "metadata": {
    "accelerator": "GPU",
    "colab": {
      "name": "Toxic_train_2.ipynb",
      "provenance": [],
      "collapsed_sections": []
    },
    "kernelspec": {
      "display_name": "Python 3",
      "name": "python3"
    }
  },
  "cells": [
    {
      "cell_type": "code",
      "metadata": {
        "colab": {
          "base_uri": "https://localhost:8080/"
        },
        "id": "uHwIfqfjgZfM",
        "outputId": "030d3011-0485-435d-9212-8ccc4bfeb442"
      },
      "source": [
        "from google.colab import drive\n",
        "drive.flush_and_unmount()\n",
        "drive.mount('/content/drive')"
      ],
      "execution_count": 1,
      "outputs": [
        {
          "output_type": "stream",
          "text": [
            "Mounted at /content/drive\n"
          ],
          "name": "stdout"
        }
      ]
    },
    {
      "cell_type": "code",
      "metadata": {
        "id": "hFYwrnfeg4EM"
      },
      "source": [
        "import numpy as np\n",
        "import os\n",
        "os.environ['TF_CPP_MIN_LOG_LEVEL'] = '3'\n",
        "import matplotlib.pyplot as plt\n",
        "import pandas as pd\n",
        "import time\n",
        "import warnings\n",
        "\n",
        "import re\n",
        "from bs4 import BeautifulSoup\n",
        "import string\n",
        "import nltk\n",
        "from nltk.corpus import stopwords\n",
        "\n",
        "\n",
        "from tensorflow.keras.preprocessing.text import Tokenizer\n",
        "from tensorflow.keras.preprocessing.sequence import pad_sequences\n",
        "from tensorflow.keras import initializers, regularizers, constraints, optimizers, layers\n",
        "from tensorflow.keras.layers import Layer, Dense, Input, Activation, Embedding, SpatialDropout1D, Bidirectional, LSTM, GRU, GlobalMaxPooling1D, GlobalAveragePooling1D, Dropout\n",
        "from tensorflow.keras.layers import concatenate, add\n",
        "from tensorflow.keras.models import Model\n",
        "from sklearn.model_selection import train_test_split\n",
        "from tensorflow.keras import backend as K"
      ],
      "execution_count": 2,
      "outputs": []
    },
    {
      "cell_type": "code",
      "metadata": {
        "id": "N2ho_K0xg5Xt"
      },
      "source": [
        "class Attention(Layer):\n",
        "    \"\"\"\n",
        "    Custom Keras attention layer\n",
        "    Reference: https://www.kaggle.com/qqgeogor/keras-lstm-attention-glove840b-lb-0-043\n",
        "    \"\"\"\n",
        "    def __init__(self, step_dim, W_regularizer=None, b_regularizer=None,\n",
        "                 W_constraint=None, b_constraint=None, bias=True, **kwargs):\n",
        "\n",
        "        self.supports_masking = True\n",
        "\n",
        "        self.bias = bias\n",
        "        self.step_dim = step_dim\n",
        "        self.features_dim = None\n",
        "        super(Attention, self).__init__(**kwargs)\n",
        "\n",
        "        self.param_W = {\n",
        "            'initializer': initializers.get('glorot_uniform'),\n",
        "            'name': '{}_W'.format(self.name),\n",
        "            'regularizer': regularizers.get(W_regularizer),\n",
        "            'constraint': constraints.get(W_constraint)\n",
        "        }\n",
        "        self.W = None\n",
        "\n",
        "        self.param_b = {\n",
        "            'initializer': 'zero',\n",
        "            'name': '{}_b'.format(self.name),\n",
        "            'regularizer': regularizers.get(b_regularizer),\n",
        "            'constraint': constraints.get(b_constraint)\n",
        "        }\n",
        "        self.b = None\n",
        "\n",
        "    def build(self, input_shape):\n",
        "        assert len(input_shape) == 3\n",
        "\n",
        "        self.features_dim = input_shape[-1]\n",
        "        self.W = self.add_weight(shape=(input_shape[-1],),\n",
        "                                 **self.param_W)\n",
        "\n",
        "        if self.bias:\n",
        "            self.b = self.add_weight(shape=(input_shape[1],),\n",
        "                                     **self.param_b)\n",
        "\n",
        "        self.built = True\n",
        "\n",
        "    def compute_mask(self, input, input_mask=None):\n",
        "        return None\n",
        "\n",
        "    def call(self, x, mask=None):\n",
        "        step_dim = self.step_dim\n",
        "        features_dim = self.features_dim\n",
        "\n",
        "        eij = K.reshape(\n",
        "            K.dot(K.reshape(x, (-1, features_dim)), K.reshape(self.W, (features_dim, 1))),\n",
        "            (-1, step_dim))\n",
        "\n",
        "        if self.bias:\n",
        "            eij += self.b\n",
        "        eij = K.tanh(eij)\n",
        "        a = K.exp(eij)\n",
        "\n",
        "        if mask is not None:\n",
        "            a *= K.cast(mask, K.floatx())\n",
        "\n",
        "        a /= K.cast(K.sum(a, axis=1, keepdims=True) + K.epsilon(), K.floatx())\n",
        "        a = K.expand_dims(a)\n",
        "        weighted_input = x * a\n",
        "        return K.sum(weighted_input, axis=1)\n",
        "\n",
        "    def compute_output_shape(self, input_shape):\n",
        "        return input_shape[0], self.features_dim"
      ],
      "execution_count": 3,
      "outputs": []
    },
    {
      "cell_type": "code",
      "metadata": {
        "id": "PI94O5rRg7en"
      },
      "source": [
        "def decontracted(phrase):\n",
        "    # specific\n",
        "    phrase = re.sub(r\"won't\", \"will not\", phrase)\n",
        "    phrase = re.sub(r\"can\\'t\", \"can not\", phrase)\n",
        "    # general\n",
        "    phrase = re.sub(r\"n\\'t\", \" not\", phrase)\n",
        "    phrase = re.sub(r\"\\'re\", \" are\", phrase)\n",
        "    phrase = re.sub(r\"\\'s\", \" is\", phrase)\n",
        "    phrase = re.sub(r\"\\'d\", \" would\", phrase)\n",
        "    phrase = re.sub(r\"\\'ll\", \" will\", phrase)\n",
        "    phrase = re.sub(r\"\\'t\", \" not\", phrase)\n",
        "    phrase = re.sub(r\"\\'ve\", \" have\", phrase)\n",
        "    phrase = re.sub(r\"\\'m\", \" am\", phrase)\n",
        "    return phrase\n",
        "\n",
        "def cleanup_text(msg):\n",
        "    No_Punctuation = [char for char in msg if char not in string.punctuation]\n",
        "    sentance = ''.join(No_Punctuation) #joins all the strings\n",
        "    sentance = re.sub(r\"http\\S+\", \"\", sentance)\n",
        "    sentance = BeautifulSoup(sentance, 'lxml').get_text()\n",
        "    sentance = decontracted(sentance)\n",
        "    sentance = re.sub(\"\\S*\\d\\S*\", \"\", sentance).strip()\n",
        "    sentance = re.sub('[^A-Za-z]+', ' ', sentance)\n",
        "    return [word.lower() for word in sentance.split() if word.lower() not in stoplist_combined]\n"
      ],
      "execution_count": 4,
      "outputs": []
    },
    {
      "cell_type": "code",
      "metadata": {
        "id": "ZTVj-ZmhhBCj"
      },
      "source": [
        "def hs_plot(history, name, eval):\n",
        "    ''' history plot '''\n",
        "    loss = history.history['loss']\n",
        "    val_loss = history.history['val_loss']\n",
        "    accuracy = history.history['accuracy']\n",
        "    val_accuracy = history.history['val_accuracy']\n",
        "    epochs = range(1, len(loss) + 1)\n",
        "    fig, ax = plt.subplots(1, 2, figsize=(11, 5))\n",
        "    ax[0].plot(epochs, loss, color='red', label='Training loss')\n",
        "    ax[0].plot(epochs, val_loss, color='deeppink', label='Validation loss')\n",
        "    ax[1].plot(epochs, accuracy, color='green', label='accuracy')\n",
        "    ax[1].plot(epochs, val_accuracy, color='lime', label='val_accuracy')\n",
        "    ax[0].set_title('Training and validation loss. {}, Eval: {}'.format(name, eval[0]))\n",
        "    ax[1].set_title('Training and validation Metrics(Accuracy) {}, Eval: {}'.format(name, eval[1]))\n",
        "    ax[0].set_xlabel('Epochs')\n",
        "    ax[1].set_xlabel('Epochs')\n",
        "    ax[0].set_ylabel('Loss')\n",
        "    ax[1].set_ylabel('Metrics')\n",
        "    ax[0].grid()\n",
        "    ax[1].grid()\n",
        "    ax[0].legend()\n",
        "    ax[1].legend()\n",
        "    plt.savefig('hist_{}.png'.format(name))\n",
        "    plt.show()"
      ],
      "execution_count": 5,
      "outputs": []
    },
    {
      "cell_type": "code",
      "metadata": {
        "colab": {
          "base_uri": "https://localhost:8080/"
        },
        "id": "Xfzco-bkhCds",
        "outputId": "e49228ae-6aa9-4aa6-bcb7-913ca130015a"
      },
      "source": [
        "%%time\n",
        "max_length = 150\n",
        "voc_size = 20000\n",
        "embedding_dim = 32\n",
        "warnings.simplefilter(action='ignore', category=FutureWarning)\n",
        "os.chdir(\"/content/drive/MyDrive/Toxic\")\n",
        "data_dir = './Toxic_data'\n",
        "traint_set1 = pd.read_csv(os.path.join(data_dir, 'jigsaw-toxic-comment-train.csv'), encoding=\"utf8\", index_col='id')\n",
        "traint_set2 = pd.read_csv(os.path.join(data_dir, 'jigsaw-unintended-bias-train.csv'), encoding=\"utf8\", index_col='id')\n",
        "valid_set = pd.read_csv(os.path.join(data_dir, 'validation.csv'), encoding=\"utf8\", index_col='id')\n",
        "traint_set2 = traint_set2[['comment_text',  'toxic', 'severe_toxicity',  'obscene',  'threat',  'insult',  'identity_attack']]\n",
        "traint_set2 = traint_set2.rename(columns={'severe_toxicity': 'severe_toxic', 'identity_attack': 'identity_hate'})\n",
        "train_set = pd.concat([traint_set1, traint_set2])\n",
        "#print(train_set.shape)        #------------------------------------------!!!\n",
        "#train_set = train_set[:1000]  #------------------------------------------!!!\n",
        "#print(train_set.shape)         #------------------------------------------!!!"
      ],
      "execution_count": 6,
      "outputs": [
        {
          "output_type": "stream",
          "text": [
            "CPU times: user 13.6 s, sys: 1.62 s, total: 15.2 s\n",
            "Wall time: 16 s\n"
          ],
          "name": "stdout"
        }
      ]
    },
    {
      "cell_type": "code",
      "metadata": {
        "colab": {
          "base_uri": "https://localhost:8080/"
        },
        "id": "F_56I7xuhEGw",
        "outputId": "ceca67a0-abba-4384-f9e9-b6a1d5a8d643"
      },
      "source": [
        "%%time\n",
        "stopwords_set = set(['br', 'the', 'i', 'me', 'my', 'myself', 'we', 'our', 'ours', 'ourselves', 'you', \"you're\", \"you've\",\\\n",
        "            \"you'll\", \"you'd\", 'your', 'yours', 'yourself', 'yourselves', 'he', 'him', 'his', 'himself', \\\n",
        "            'she', \"she's\", 'her', 'hers', 'herself', 'it', \"it's\", 'its', 'itself', 'they', 'them', 'their',\\\n",
        "            'theirs', 'themselves', 'what', 'which', 'who', 'whom', 'this', 'that', \"that'll\", 'these', 'those', \\\n",
        "            'am', 'is', 'are', 'was', 'were', 'be', 'been', 'being', 'have', 'has', 'had', 'having', 'do', 'does', \\\n",
        "            'did', 'doing', 'a', 'an', 'the', 'and', 'but', 'if', 'or', 'because', 'as', 'until', 'while', 'of', \\\n",
        "            'at', 'by', 'for', 'with', 'about', 'against', 'between', 'into', 'through', 'during', 'before', 'after',\\\n",
        "            'above', 'below', 'to', 'from', 'up', 'down', 'in', 'out', 'on', 'off', 'over', 'under', 'again', 'further',\\\n",
        "            'then', 'once', 'here', 'there', 'when', 'where', 'why', 'how', 'all', 'any', 'both', 'each', 'few', 'more',\\\n",
        "            'most', 'other', 'some', 'such', 'only', 'own', 'same', 'so', 'than', 'too', 'very', \\\n",
        "            's', 't', 'can', 'will', 'just', 'don', \"don't\", 'should', \"should've\", 'now', 'd', 'll', 'm', 'o', 're', \\\n",
        "            've', 'y', 'ain', 'aren', \"aren't\", 'couldn', \"couldn't\", 'didn', \"didn't\", 'doesn', \"doesn't\", 'hadn',\\\n",
        "            \"hadn't\", 'hasn', \"hasn't\", 'haven', \"haven't\", 'isn', \"isn't\", 'ma', 'mightn', \"mightn't\", 'mustn',\\\n",
        "            \"mustn't\", 'needn', \"needn't\", 'shan', \"shan't\", 'shouldn', \"shouldn't\", 'wasn', \"wasn't\", 'weren', \"weren't\", \\\n",
        "            'won', \"won't\", 'wouldn', \"wouldn't\"])\n",
        "nltk.download('stopwords') \n",
        "x = stopwords.words(\"english\")\n",
        "stopwords_nltk_en = set(x)\n",
        "stoplist_combined = set.union(stopwords_set, stopwords_nltk_en)\n",
        "\n",
        "# Text clean up\n",
        "train_set['comment_text'] = train_set['comment_text'].apply(cleanup_text)\n",
        "valid_set['comment_text'] = valid_set['comment_text'].apply(cleanup_text)"
      ],
      "execution_count": 7,
      "outputs": [
        {
          "output_type": "stream",
          "text": [
            "[nltk_data] Downloading package stopwords to /root/nltk_data...\n",
            "[nltk_data]   Package stopwords is already up-to-date!\n",
            "CPU times: user 10min 51s, sys: 27.8 s, total: 11min 19s\n",
            "Wall time: 12min 49s\n"
          ],
          "name": "stdout"
        }
      ]
    },
    {
      "cell_type": "code",
      "metadata": {
        "id": "kVLdqpDLhIdC",
        "colab": {
          "base_uri": "https://localhost:8080/"
        },
        "outputId": "cf02eaa3-e05d-43db-c6eb-96219070e4e5"
      },
      "source": [
        "%%time\n",
        "# remove '\\\\n'\n",
        "train_set['comment_text'] = train_set['comment_text'].map(lambda x: re.sub('\\\\n', ' ', str(x)))\n",
        "valid_set['comment_text'] = valid_set['comment_text'].map(lambda x: re.sub('\\\\n', ' ', str(x)))\n",
        "# remove any text starting with User...\n",
        "train_set['comment_text'] = train_set['comment_text'].map(lambda x: re.sub(\"\\[\\[User.*\", '', str(x)))\n",
        "valid_set['comment_text'] = valid_set['comment_text'].map(lambda x: re.sub(\"\\[\\[User.*\", '', str(x)))\n",
        "# remove IP addresses or user IDs\n",
        "train_set['comment_text'] = train_set['comment_text'].map(lambda x: re.sub(\"\\d{1,3}\\.\\d{1,3}\\.\\d{1,3}\\.\\d{1,3}\", '', str(x)))\n",
        "valid_set['comment_text'] = valid_set['comment_text'].map(lambda x: re.sub(\"\\d{1,3}\\.\\d{1,3}\\.\\d{1,3}\\.\\d{1,3}\", '', str(x)))\n",
        "# remove http links in the text\n",
        "train_set['comment_text'] = train_set['comment_text'].map(lambda x: re.sub(\"(http://.*?\\s)|(http://.*)\", '', str(x)))\n",
        "valid_set['comment_text'] = valid_set['comment_text'].map(lambda x: re.sub(\"(http://.*?\\s)|(http://.*)\", '', str(x)))\n"
      ],
      "execution_count": 8,
      "outputs": [
        {
          "output_type": "stream",
          "text": [
            "CPU times: user 42.3 s, sys: 369 ms, total: 42.6 s\n",
            "Wall time: 42.7 s\n"
          ],
          "name": "stdout"
        }
      ]
    },
    {
      "cell_type": "code",
      "metadata": {
        "colab": {
          "base_uri": "https://localhost:8080/"
        },
        "id": "1kF7dA4LhKU4",
        "outputId": "a9717079-deb5-4913-eaba-5a846fb8533c"
      },
      "source": [
        "%%time\n",
        "X = train_set.comment_text.to_numpy()\n",
        "Y_tr = train_set.toxic.to_numpy()\n",
        "#X, Y_tr = X[:10000], Y_tr[:10000] #----------------------------------------!!!\n",
        "X_val = valid_set.comment_text.to_numpy()\n",
        "Y_val = valid_set.toxic.to_numpy()\n",
        "X_val, X_ts, Y_val, Y_ts = train_test_split(X_val, Y_val, test_size=0.5, random_state=1)\n",
        "# pre-proc -------------\n",
        "tokenizer = Tokenizer(num_words=voc_size, oov_token='<oov>')\n",
        "tokenizer.fit_on_texts(X)\n",
        "word_index = tokenizer.word_index\n",
        "X_seq = tokenizer.texts_to_sequences(X)\n",
        "X_val_seq = tokenizer.texts_to_sequences(X_val)\n",
        "X_tr = pad_sequences(X_seq, maxlen=max_length, padding='post', truncating='post')\n",
        "X_ts_seq = tokenizer.texts_to_sequences(X_ts)\n",
        "X_val = pad_sequences(X_val_seq, maxlen=max_length, padding='post', truncating='post')\n",
        "X_ts = pad_sequences(X_ts_seq, maxlen=max_length, padding='post', truncating='post')"
      ],
      "execution_count": 9,
      "outputs": [
        {
          "output_type": "stream",
          "text": [
            "CPU times: user 1min 46s, sys: 0 ns, total: 1min 46s\n",
            "Wall time: 1min 46s\n"
          ],
          "name": "stdout"
        }
      ]
    },
    {
      "cell_type": "code",
      "metadata": {
        "id": "QJuJxEwrhN1y"
      },
      "source": [
        "ep=3"
      ],
      "execution_count": 10,
      "outputs": []
    },
    {
      "cell_type": "code",
      "metadata": {
        "colab": {
          "base_uri": "https://localhost:8080/",
          "height": 613
        },
        "id": "XpSd9K6RhQ5-",
        "outputId": "8abcfeb9-f647-48b6-da0e-757f0fb34f97"
      },
      "source": [
        "model_name = 'Complex'\n",
        "inpt = Input(shape=(max_length,))\n",
        "X = Embedding(voc_size, embedding_dim, input_length=max_length)(inpt)\n",
        "X = Bidirectional(LSTM(256, return_sequences=True))(X)\n",
        "X = Bidirectional(LSTM(128, return_sequences=True))(X)\n",
        "att = Attention(max_length)(X)\n",
        "avg_pool1 = GlobalAveragePooling1D()(X)\n",
        "max_pool1 = GlobalMaxPooling1D()(X)\n",
        "hidden = concatenate([att, avg_pool1, max_pool1])\n",
        "hidden = Dense(512, activation='relu')(hidden)\n",
        "hideen = Dense(128, activation='relu')(hidden)\n",
        "outpt = Dense(1, activation='sigmoid')(hideen)\n",
        "model = Model(inpt, outpt)\n",
        "# compile-fit-evalueate\n",
        "model.compile(loss='binary_crossentropy', optimizer='adam', metrics=['accuracy'])\n",
        "history = model.fit(X_tr, Y_tr, epochs=ep, validation_data=(X_val, Y_val), verbose=1)\n",
        "eval = np.round(model.evaluate(X_ts, Y_ts, verbose=1), 3)\n",
        "hs_plot(history, model_name, eval)\n",
        "model.save('toxic_model_complex')"
      ],
      "execution_count": 11,
      "outputs": [
        {
          "output_type": "stream",
          "text": [
            "Epoch 1/3\n",
            "66430/66430 [==============================] - 2703s 41ms/step - loss: 0.2309 - accuracy: 0.7270 - val_loss: 0.6732 - val_accuracy: 0.8428\n",
            "Epoch 2/3\n",
            "66430/66430 [==============================] - 2698s 41ms/step - loss: 0.2249 - accuracy: 0.7276 - val_loss: 0.5346 - val_accuracy: 0.8432\n",
            "Epoch 3/3\n",
            "66430/66430 [==============================] - 2704s 41ms/step - loss: 0.2228 - accuracy: 0.7278 - val_loss: 0.6814 - val_accuracy: 0.8430\n",
            "125/125 [==============================] - 2s 14ms/step - loss: 0.6532 - accuracy: 0.8510\n"
          ],
          "name": "stdout"
        },
        {
          "output_type": "display_data",
          "data": {
            "image/png": "[encoded data removed]",
            "text/plain": [
              "<Figure size 792x360 with 2 Axes>"
            ]
          },
          "metadata": {
            "tags": [],
            "needs_background": "light"
          }
        },
        {
          "output_type": "stream",
          "text": [
            "WARNING:tensorflow:From /usr/local/lib/python3.6/dist-packages/tensorflow/python/training/tracking/tracking.py:111: Model.state_updates (from tensorflow.python.keras.engine.training) is deprecated and will be removed in a future version.\n",
            "Instructions for updating:\n",
            "This property should not be used in TensorFlow 2.0, as updates are applied automatically.\n",
            "WARNING:tensorflow:From /usr/local/lib/python3.6/dist-packages/tensorflow/python/training/tracking/tracking.py:111: Layer.updates (from tensorflow.python.keras.engine.base_layer) is deprecated and will be removed in a future version.\n",
            "Instructions for updating:\n",
            "This property should not be used in TensorFlow 2.0, as updates are applied automatically.\n",
            "INFO:tensorflow:Assets written to: toxic_model_complex/assets\n"
          ],
          "name": "stdout"
        }
      ]
    },
    {
      "cell_type": "code",
      "metadata": {
        "id": "rmtFBsKQhRaA"
      },
      "source": [
        ""
      ],
      "execution_count": 11,
      "outputs": []
    }
  ]
}